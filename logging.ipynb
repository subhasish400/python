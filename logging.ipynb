{
 "cells": [
  {
   "cell_type": "markdown",
   "id": "377c5e8d",
   "metadata": {},
   "source": [
    "## Logging"
   ]
  },
  {
   "cell_type": "markdown",
   "id": "fb45f7c2",
   "metadata": {},
   "source": [
    "Logging is highly recommended to store,compute application flow and exceptions information to a file.This process is called as logging\n",
    "The main advantages of logging are:\n",
    "  1. We can use log files while performming debugging\n",
    "  2. We can provide statistics like number of requests per day etc.To implement logging python provides one inbuilt logging module.\n",
    "Logging is a crucial part of any application,providing a way to track events,errors and optional information.The logging module offers a flexible frameworkfor emiting log messages from the python program.\n"
   ]
  },
  {
   "cell_type": "code",
   "execution_count": 2,
   "id": "ca12c839",
   "metadata": {},
   "outputs": [
    {
     "name": "stderr",
     "output_type": "stream",
     "text": [
      "INFO:root:This is a info message\n",
      "DEBUG:root:This is a debug message\n",
      "WARNING:root:This is a warning message\n",
      "ERROR:root:This is an error message\n",
      "CRITICAL:root:This is a critical message\n"
     ]
    }
   ],
   "source": [
    "import logging\n",
    "# Here we have imported pythons inbuilt logging module\n",
    "# Now we are going to configure the basic logging settings\n",
    "logging.basicConfig(level= logging.DEBUG)\n",
    "# Now we are going to display log messages with different servirity levels\n",
    "logging.info(\"This is a info message\")\n",
    "logging.debug(\"This is a debug message\")\n",
    "logging.warning(\"This is a warning message\")\n",
    "logging.error(\"This is an error message\")\n",
    "logging.critical(\"This is a critical message\")"
   ]
  },
  {
   "cell_type": "markdown",
   "id": "37cd8096",
   "metadata": {},
   "source": [
    "Python logging module has several log levels indicating the servirity of events,the default levels are\n",
    "1. CRITICAL==>50==>Represents a very serious problem that needs high attention  \n",
    "2. ERROR===>40===>Represents a serious error  \n",
    "3. WARNING==>30==>Represents a warning message, some caution needed. It is alert to the programmer \n",
    "4. INFO===>20===>Represents a message with some important information \n",
    "5. DEBUG===>10==>Represents a message with debugging information \n",
    "6. NOTSET==>0==>Rrepresents that the level is not set."
   ]
  },
  {
   "cell_type": "markdown",
   "id": "fe3cfbc1",
   "metadata": {},
   "source": [
    "How to implement logging:  \n",
    "To perform logging, first we required to create a file to store messages and we have to specify which level messages we have to store.\n",
    "We can do this by using basicConfig() function of logging module."
   ]
  },
  {
   "cell_type": "code",
   "execution_count": null,
   "id": "99fd4d65",
   "metadata": {},
   "outputs": [
    {
     "name": "stderr",
     "output_type": "stream",
     "text": [
      "2025-04-11 11:52:00-root-INFO-This is a info message\n",
      "2025-04-11 11:52:00-root-DEBUG-This is a debug message\n",
      "2025-04-11 11:52:00-root-WARNING-This is a warning message\n",
      "2025-04-11 11:52:00-root-ERROR-This is an error message\n",
      "2025-04-11 11:52:00-root-CRITICAL-This is a critical message\n"
     ]
    }
   ],
   "source": [
    "datefmt='%Y-%m-%d %H:%M:%S'# Write a program in python to display the log mesages with different sevirity levels\n",
    "import logging\n",
    "import time\n",
    "logging.basicConfig(level=logging.DEBUG,\n",
    "    filename='logfile.txt',\n",
    "    filemode='w',\n",
    "    format='%(asctime)s-%(name)s-%(levelname)s-%(message)s',\n",
    "    )\n",
    "# Now we are going to display log messages with different servirity levels\n",
    "logging.info(\"This is a info message\")\n",
    "logging.debug(\"This is a debug message\")\n",
    "logging.warning(\"This is a warning message\")\n",
    "logging.error(\"This is an error message\")\n",
    "logging.critical(\"This is a critical message\")"
   ]
  },
  {
   "cell_type": "code",
   "execution_count": 4,
   "id": "468012b4",
   "metadata": {},
   "outputs": [],
   "source": [
    "import logging\n",
    "logging.basicConfig(filename='log.log',level=logging.DEBUG,format='%(asctime)s-%(name)s-%(levelname)s-%(message)s',\n",
    "    datefmt='%Y-%m-%d %H:%M:%S',filemode='w')\n",
    "logging.info(\"This is a info message\")\n",
    "logging.debug(\"This is a debug message\")\n",
    "logging.warning(\"This is a warning message\")\n",
    "logging.error(\"This is an error message\")\n",
    "logging.critical(\"This is a critical message\")\n"
   ]
  },
  {
   "cell_type": "markdown",
   "id": "6489d174",
   "metadata": {},
   "source": [
    "## Logging with Multiple Loggers\n"
   ]
  },
  {
   "cell_type": "markdown",
   "id": "3033922e",
   "metadata": {},
   "source": [
    "We can create multiple loggers for the different part of our application."
   ]
  },
  {
   "cell_type": "code",
   "execution_count": 4,
   "id": "e97bb21b",
   "metadata": {},
   "outputs": [
    {
     "name": "stderr",
     "output_type": "stream",
     "text": [
      "DEBUG:module1:This is debug message for module1\n",
      "WARNING:module2:This is the warning message for module2\n",
      "ERROR:module2:This is an error message\n"
     ]
    }
   ],
   "source": [
    "# Now we are going tocreate logger for module 1logger\n",
    "logger1 = logging.getLogger('module1')\n",
    "logger1.setLevel(logging.DEBUG)\n",
    "# Now we are going to create logger for module 2\n",
    "logger2 = logging.getLogger(\"module2\")\n",
    "logger2.setLevel(logging.WARNING)\n",
    "# Now we are going to provide the configuration for the logging setting\n",
    "logging.basicConfig(level=logging.DEBUG,\n",
    "    filename='logfile.txt',\n",
    "    filemode='w',\n",
    "    format='%(asctime)s-%(name)s-%(levelname)s-%(message)s',\n",
    "    )\n",
    "# Now we are going to display log messages with different loggers\n",
    "logger1.debug(\"This is debug message for module1\")\n",
    "logger2.warning(\"This is the warning message for module2\")\n",
    "logger2.error(\"This is an error message\")"
   ]
  }
 ],
 "metadata": {
  "kernelspec": {
   "display_name": "base",
   "language": "python",
   "name": "python3"
  },
  "language_info": {
   "codemirror_mode": {
    "name": "ipython",
    "version": 3
   },
   "file_extension": ".py",
   "mimetype": "text/x-python",
   "name": "python",
   "nbconvert_exporter": "python",
   "pygments_lexer": "ipython3",
   "version": "3.11.5"
  }
 },
 "nbformat": 4,
 "nbformat_minor": 5
}
