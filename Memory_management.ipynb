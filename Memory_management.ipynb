{
 "cells": [
  {
   "cell_type": "markdown",
   "metadata": {},
   "source": [
    "## Memeory Management"
   ]
  },
  {
   "cell_type": "markdown",
   "metadata": {},
   "source": [
    "Memeory management in python involves a combination of automatic garbage collection,reference counting and various internal optimizations to efficiently manage memory allocation and deallocation.Understanding these mechanisms can help devlopers to write more efficient and robust application."
   ]
  },
  {
   "cell_type": "markdown",
   "metadata": {},
   "source": [
    "## Reference Counting"
   ]
  },
  {
   "cell_type": "markdown",
   "metadata": {},
   "source": [
    "Reference counting is the primary method python uses to manage memory.Each object in python maintains a count of references pointing to it.When the reference count is drops to zero,the memeory occupied by the object is deallocated."
   ]
  },
  {
   "cell_type": "code",
   "execution_count": null,
   "metadata": {},
   "outputs": [
    {
     "name": "stdout",
     "output_type": "stream",
     "text": [
      "The reference count becomes: 2\n",
      "\n",
      "The reference count becomes: 3\n",
      "\n",
      "Error: name 'b' is not defined\n",
      "The reference count becomes: 2\n"
     ]
    }
   ],
   "source": [
    "# Write a program in python to demonstrate the reference counting using the sys module by creating, referencing, deleting variables and observing reference count changes.\n",
    "import sys\n",
    "a = []\n",
    "print('The reference count becomes:',sys.getrefcount(a))\n",
    "# Here we are getting the reference count is 2 because one reference from the variable 'a' and the another reference from the method getrefcount() method\n",
    "print()\n",
    "b = a\n",
    "print('The reference count becomes:',sys.getrefcount(b))\n",
    "print()\n",
    "del b\n",
    "try:\n",
    "    print('The reference count becomes:',sys.getrefcount(b))\n",
    "except Exception as e:\n",
    "    print(\"Error:\",e)\n",
    "finally:\n",
    "    print('The reference count becomes:',sys.getrefcount(a))"
   ]
  },
  {
   "cell_type": "markdown",
   "metadata": {},
   "source": [
    "## Garbage Collection"
   ]
  },
  {
   "cell_type": "markdown",
   "metadata": {},
   "source": [
    "Python includes a cyclic garbage collector to handle reference cycles.Reference cycle ossurs when objects reference each other preventing their reference counts from reaching zero"
   ]
  },
  {
   "cell_type": "code",
   "execution_count": null,
   "metadata": {},
   "outputs": [
    {
     "name": "stdout",
     "output_type": "stream",
     "text": [
      "[{'collections': 313, 'collected': 3385, 'uncollectable': 0}, {'collections': 28, 'collected': 668, 'uncollectable': 0}, {'collections': 8, 'collected': 922, 'uncollectable': 0}]\n",
      "\n",
      "\n",
      "Generation 0 stats:\n",
      "collections: 313\n",
      "collected: 3385\n",
      "uncollectable: 0\n",
      "\n",
      "Generation 1 stats:\n",
      "collections: 28\n",
      "collected: 668\n",
      "uncollectable: 0\n",
      "\n",
      "Generation 2 stats:\n",
      "collections: 8\n",
      "collected: 922\n",
      "uncollectable: 0\n"
     ]
    }
   ],
   "source": [
    "import gc\n",
    "# for enable the garbage collector we have \n",
    "gc.enable()\n",
    "# Now we ahve to collect the garbage so we have\n",
    "gc.collect()\n",
    "# for disabling the garbage collector we have\n",
    "gc.disable()\n",
    "# Now if we want to get the actual statistics of the garbage collection then we have\n",
    "print(gc.get_stats())\n",
    "print()\n",
    "for i,stat_dict in enumerate(gc.get_stats()):\n",
    "    print(f\"\\nGeneration {i} stats:\")\n",
    "    for key, value in stat_dict.items():\n",
    "        print(f\"{key}: {value}\")"
   ]
  },
  {
   "cell_type": "code",
   "execution_count": null,
   "metadata": {},
   "outputs": [
    {
     "name": "stdout",
     "output_type": "stream",
     "text": [
      "Object Obj1 created\n",
      "Object Obj2 created\n",
      "Object Obj1 deleted\n",
      "Object Obj2 deleted\n"
     ]
    },
    {
     "data": {
      "text/plain": [
       "9"
      ]
     },
     "execution_count": 19,
     "metadata": {},
     "output_type": "execute_result"
    }
   ],
   "source": [
    "# Write a program in python o demonstrate the garbage collection handling of circular references by creating by manually reversing objects and facing cleanup using gc.collect().\n",
    "class MyObject:\n",
    "    def __init__(self,name):\n",
    "        self.name = name\n",
    "        print(f\"Object {self.name} created\")\n",
    "    def __del__(self):\n",
    "        print(f\"Object {self.name} deleted\")\n",
    "# Now we have to create the circular reference\n",
    "obj1 = MyObject(\"Obj1\")\n",
    "obj2 = MyObject(\"Obj2\")\n",
    "obj1.ref = obj2\n",
    "obj2.ref = obj1\n",
    "# Now we are going to delete both the object and manually called the garbage collector\n",
    "del obj1\n",
    "del obj2\n",
    "gc.collect()\n"
   ]
  },
  {
   "cell_type": "code",
   "execution_count": 20,
   "metadata": {},
   "outputs": [
    {
     "name": "stdout",
     "output_type": "stream",
     "text": [
      "Garbage collected objects: []\n"
     ]
    }
   ],
   "source": [
    "# Now if we are going to print the collected object then\n",
    "try:\n",
    "    print(f\"Garbage collected objects: {gc.garbage}\")\n",
    "except Exception as e:\n",
    "    print(\"Error:\",e)"
   ]
  },
  {
   "cell_type": "code",
   "execution_count": null,
   "metadata": {},
   "outputs": [
    {
     "name": "stdout",
     "output_type": "stream",
     "text": [
      "0\n",
      "2\n",
      "4\n",
      "6\n",
      "8\n",
      "10\n",
      "12\n",
      "14\n"
     ]
    }
   ],
   "source": [
    "# Write a program in python to demonstrate memory-efficient number generation using python generators and filter even numbers.Stopping the process when a limit is exceeded.\n",
    "# Generator for memory efficiency\n",
    "def generate_numbers(n):\n",
    "    for i in range(n):\n",
    "        yield i\n",
    "for num in generate_numbers(30):\n",
    "    if num > 15:\n",
    "        break\n",
    "    if num % 2 == 0:\n",
    "        print(num)\n",
    "       "
   ]
  },
  {
   "cell_type": "code",
   "execution_count": null,
   "metadata": {},
   "outputs": [
    {
     "name": "stdout",
     "output_type": "stream",
     "text": [
      "[Top 10]\n",
      "c:\\Users\\USER\\anaconda3\\Lib\\selectors.py:314: size=288 KiB, count=6, average=48.0 KiB\n",
      "c:\\Users\\USER\\anaconda3\\Lib\\site-packages\\IPython\\core\\compilerop.py:86: size=11.1 KiB, count=109, average=105 B\n",
      "c:\\Users\\USER\\anaconda3\\Lib\\json\\decoder.py:353: size=1878 B, count=21, average=89 B\n",
      "c:\\Users\\USER\\anaconda3\\Lib\\codeop.py:118: size=1826 B, count=15, average=122 B\n",
      "c:\\Users\\USER\\anaconda3\\Lib\\site-packages\\traitlets\\traitlets.py:744: size=1104 B, count=16, average=69 B\n",
      "c:\\Users\\USER\\anaconda3\\Lib\\site-packages\\zmq\\sugar\\socket.py:730: size=1104 B, count=6, average=184 B\n",
      "c:\\Users\\USER\\anaconda3\\Lib\\site-packages\\IPython\\core\\compilerop.py:174: size=1102 B, count=14, average=79 B\n",
      "c:\\Users\\USER\\anaconda3\\Lib\\site-packages\\jupyter_client\\session.py:1045: size=1052 B, count=5, average=210 B\n",
      "c:\\Users\\USER\\anaconda3\\Lib\\site-packages\\zmq\\sugar\\attrsettr.py:44: size=990 B, count=18, average=55 B\n",
      "c:\\Users\\USER\\anaconda3\\Lib\\site-packages\\IPython\\core\\interactiveshell.py:3329: size=778 B, count=2, average=389 B\n"
     ]
    }
   ],
   "source": [
    "# profiling memeory using tracemalloc\n",
    "# Write a program in python for profile memeory using tracemalloc,identifying top memeory-consuming lines after executing a sample list creation function.\n",
    "import tracemalloc\n",
    "\n",
    "def create_list():\n",
    "    return [i for i in range(10000)]\n",
    "\n",
    "def main():\n",
    "    tracemalloc.start()\n",
    "    create_list()\n",
    "    snapshot = tracemalloc.take_snapshot()\n",
    "    top_stats = snapshot.statistics('lineno')\n",
    "    print('[Top 10]')\n",
    "    for stat in top_stats[:10]:\n",
    "        print(stat)\n",
    "\n",
    "main()\n"
   ]
  },
  {
   "cell_type": "markdown",
   "metadata": {},
   "source": [
    "## Memory Management Best Practices"
   ]
  },
  {
   "cell_type": "markdown",
   "metadata": {},
   "source": [
    "1. Use local variables:\n",
    "   Local variables have a shorter life span and are fixed sooner than global variables.\n",
    "2. Avoid Circular References:\n",
    "   Circular references can lead to memeoy leaks if not properly managed.\n",
    "3. Use Generators:\n",
    "   Generators produce items one at a time and only keep one item in memory at a time,making them memeory efficient.\n",
    "4. Explicitly Delete Objects:\n",
    "   Use the del statement to delete variables and objects explicitly\n",
    "5. Profile memory usage:\n",
    "   Use memeory profiling tools like tracemalloc and memeory-profiler to identify memeory leaks and optimize memeory usage."
   ]
  }
 ],
 "metadata": {
  "kernelspec": {
   "display_name": "base",
   "language": "python",
   "name": "python3"
  },
  "language_info": {
   "codemirror_mode": {
    "name": "ipython",
    "version": 3
   },
   "file_extension": ".py",
   "mimetype": "text/x-python",
   "name": "python",
   "nbconvert_exporter": "python",
   "pygments_lexer": "ipython3",
   "version": "3.11.5"
  }
 },
 "nbformat": 4,
 "nbformat_minor": 2
}
