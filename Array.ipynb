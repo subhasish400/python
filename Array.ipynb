{
 "cells": [
  {
   "cell_type": "markdown",
   "id": "20752372",
   "metadata": {},
   "source": [
    "## Array"
   ]
  },
  {
   "cell_type": "code",
   "execution_count": 1,
   "id": "f0b4641e",
   "metadata": {},
   "outputs": [],
   "source": [
    "import array\n",
    "from array import *"
   ]
  },
  {
   "cell_type": "code",
   "execution_count": 4,
   "id": "da3329ef",
   "metadata": {},
   "outputs": [
    {
     "name": "stdout",
     "output_type": "stream",
     "text": [
      "The array becomes:\n",
      " array('i', [101, 102, 103, 104, 105])\n",
      "\n",
      "The array becomes:\n",
      " array('i', [101, 102, 103, 104, 105])\n"
     ]
    }
   ],
   "source": [
    "# Write a program in python to create an array which consists of the roll number of students\n",
    "stu_roll = array.array('i',[101,102,103,104,105])\n",
    "print('The array becomes:\\n',stu_roll)\n",
    "print()\n",
    "# method-2\n",
    "from array import *\n",
    "stu_roll = array('i',[101,102,103,104,105])\n",
    "print('The array becomes:\\n',stu_roll)"
   ]
  },
  {
   "cell_type": "code",
   "execution_count": 3,
   "id": "e29034e9",
   "metadata": {},
   "outputs": [
    {
     "name": "stdout",
     "output_type": "stream",
     "text": [
      "The array becomes:\n",
      " array('i')\n"
     ]
    }
   ],
   "source": [
    "# Write a program in python to create an empty array\n",
    "stu_roll = array('i',[])\n",
    "print('The array becomes:\\n',stu_roll)"
   ]
  },
  {
   "cell_type": "code",
   "execution_count": 4,
   "id": "3e730945",
   "metadata": {},
   "outputs": [
    {
     "name": "stdout",
     "output_type": "stream",
     "text": [
      "The given array becomes\n",
      " [101, 102, 103, 104, 105]\n",
      "The each elements of the array becomes:\n",
      "101\n",
      "102\n",
      "103\n",
      "104\n",
      "105\n"
     ]
    }
   ],
   "source": [
    "# Write a program in python to print each element of an array manually\n",
    "stu_roll = [101,102,103,104,105]\n",
    "print('The given array becomes\\n',stu_roll)\n",
    "print(\"The each elements of the array becomes:\")\n",
    "print(stu_roll[0])\n",
    "print(stu_roll[1])\n",
    "print(stu_roll[2])\n",
    "print(stu_roll[3])\n",
    "print(stu_roll[4])"
   ]
  },
  {
   "cell_type": "code",
   "execution_count": 5,
   "id": "7d3cc3ac",
   "metadata": {},
   "outputs": [
    {
     "name": "stdout",
     "output_type": "stream",
     "text": [
      "The array becomes:\n",
      " array('i', [101, 102, 103, 104, 105])\n",
      "Each element of the array becomes:\n",
      "101\n",
      "102\n",
      "103\n",
      "104\n",
      "105\n",
      "Each element of the array becomes:\n",
      "101\n",
      "102\n",
      "103\n",
      "104\n",
      "105\n"
     ]
    }
   ],
   "source": [
    "# Write a program in python to access each element of a given array using for loop\n",
    "stu_roll = array('i',[101,102,103,104,105])\n",
    "print(\"The array becomes:\\n\",stu_roll)\n",
    "# Approach-1\n",
    "print('Each element of the array becomes:')\n",
    "for x in stu_roll:\n",
    "    print(x)\n",
    "print('Each element of the array becomes:')\n",
    "# Approach-2\n",
    "count = 0\n",
    "for x in stu_roll:\n",
    "    count = count + 1\n",
    "for i in range(count):\n",
    "    print(stu_roll[i])\n"
   ]
  },
  {
   "cell_type": "code",
   "execution_count": 6,
   "id": "4c254f1d",
   "metadata": {},
   "outputs": [
    {
     "name": "stdout",
     "output_type": "stream",
     "text": [
      "The each element of the array in both positive as well as negetive index becomes:\n",
      "The character present at positive index 0 and at negetive indes -5 is 101\n",
      "The character present at positive index 1 and at negetive indes -4 is 102\n",
      "The character present at positive index 2 and at negetive indes -3 is 103\n",
      "The character present at positive index 3 and at negetive indes -2 is 104\n",
      "The character present at positive index 4 and at negetive indes -1 is 105\n"
     ]
    }
   ],
   "source": [
    "# write a program in python to acess each element of the given array using both positive as well as negetive index at a time\n",
    "stu_roll = array('i',[101,102,103,104,105])\n",
    "count = 0\n",
    "print(\"The each element of the array in both positive as well as negetive index becomes:\")\n",
    "i = 0\n",
    "for x in stu_roll:\n",
    "    count = count+1\n",
    "for x in stu_roll:\n",
    "    print('The character present at positive index {} and at negetive indes {} is {}'.format(i,i-count,x))\n",
    "    i = i+1\n",
    "\n"
   ]
  },
  {
   "cell_type": "code",
   "execution_count": 7,
   "id": "22e0c40e",
   "metadata": {},
   "outputs": [
    {
     "name": "stdout",
     "output_type": "stream",
     "text": [
      "The given array becomes:\n",
      " array('i', [101, 102, 103, 104, 105])\n",
      "Each element of the given array becomes:\n",
      "101\n",
      "102\n",
      "103\n",
      "104\n",
      "105\n"
     ]
    }
   ],
   "source": [
    "# Write a program in python to access each elements of the given array using while loop\n",
    "stu_roll = array('i',[101,102,103,104,105])\n",
    "print('The given array becomes:\\n',stu_roll)\n",
    "count = 0\n",
    "for x in stu_roll:\n",
    "    count = count+1\n",
    "print(\"Each element of the given array becomes:\")\n",
    "i = 0\n",
    "while i < count:\n",
    "    print(stu_roll[i])\n",
    "    i = i+1"
   ]
  },
  {
   "cell_type": "code",
   "execution_count": 8,
   "id": "8a787d76",
   "metadata": {},
   "outputs": [
    {
     "name": "stdout",
     "output_type": "stream",
     "text": [
      "The given array becomes:\n",
      " array('i', [101, 102, 103, 104, 105])\n",
      "Each element of the given array becomes:\n",
      "The character present at positive index 0 and at negetive indes -5 is 105\n",
      "The character present at positive index 1 and at negetive indes -4 is 105\n",
      "The character present at positive index 2 and at negetive indes -3 is 105\n",
      "The character present at positive index 3 and at negetive indes -2 is 105\n",
      "The character present at positive index 4 and at negetive indes -1 is 105\n"
     ]
    }
   ],
   "source": [
    "# write a program in python to acess each element of the given array using both positive as well as negetive index at a time using while loop.\n",
    "stu_roll = array('i',[101,102,103,104,105])\n",
    "print('The given array becomes:\\n',stu_roll)\n",
    "count = 0\n",
    "for x in stu_roll:\n",
    "    count = count+1\n",
    "print(\"Each element of the given array becomes:\")\n",
    "i = 0\n",
    "while i < count:\n",
    "    print('The character present at positive index {} and at negetive indes {} is {}'.format(i,i-count,x))\n",
    "    i = i+1"
   ]
  },
  {
   "cell_type": "markdown",
   "id": "edc8f2ae",
   "metadata": {},
   "source": [
    "Array Methods"
   ]
  },
  {
   "cell_type": "markdown",
   "id": "ed8d02bc",
   "metadata": {},
   "source": [
    "Append : This method is used to add an element at the end of the existing array"
   ]
  },
  {
   "cell_type": "code",
   "execution_count": 9,
   "id": "790eb30b",
   "metadata": {},
   "outputs": [
    {
     "name": "stdout",
     "output_type": "stream",
     "text": [
      "The origional array becomes:\n",
      " array('i', [101, 102, 103, 104, 105])\n",
      "The character present at positive index 0 and at negetive indes -5 is 101\n",
      "The character present at positive index 1 and at negetive indes -4 is 102\n",
      "The character present at positive index 2 and at negetive indes -3 is 103\n",
      "The character present at positive index 3 and at negetive indes -2 is 104\n",
      "The character present at positive index 4 and at negetive indes -1 is 105\n",
      "The modified array becomes:\n",
      " array('i', [101, 102, 103, 104, 105, 106])\n",
      "The character present at positive index 0 and at negetive indes -6 is 101\n",
      "The character present at positive index 1 and at negetive indes -5 is 102\n",
      "The character present at positive index 2 and at negetive indes -4 is 103\n",
      "The character present at positive index 3 and at negetive indes -3 is 104\n",
      "The character present at positive index 4 and at negetive indes -2 is 105\n",
      "The character present at positive index 5 and at negetive indes -1 is 106\n"
     ]
    }
   ],
   "source": [
    "# Write a program in python to access each element of the given array before adding as well as after adding the new element to it\n",
    "def access(a):\n",
    "    def count(a):\n",
    "        count = 0\n",
    "        for x in a:\n",
    "            count = count +1\n",
    "        return count\n",
    "    def print_ele(a):\n",
    "        i = 0\n",
    "        while i < count(a):\n",
    "            print('The character present at positive index {} and at negetive indes {} is {}'.format(i,i-count(a),a[i]))\n",
    "            i = i+1\n",
    "    return print_ele(a)\n",
    "stu_roll = array('i',[101,102,103,104,105])\n",
    "print('The origional array becomes:\\n',stu_roll)\n",
    "access(stu_roll)\n",
    "n = eval(input('enter the element you want to add:'))\n",
    "stu_roll.append(n)\n",
    "print('The modified array becomes:\\n',stu_roll)\n",
    "access(stu_roll)\n",
    "\n",
    "\n",
    "    \n",
    "            \n",
    "            \n",
    "\n"
   ]
  },
  {
   "cell_type": "code",
   "execution_count": 10,
   "id": "7e25c6e9",
   "metadata": {},
   "outputs": [
    {
     "name": "stdout",
     "output_type": "stream",
     "text": [
      "The array becomes:\n",
      " array('i', [13, 24, 35, 67, 89])\n"
     ]
    }
   ],
   "source": [
    "# Write a program in python to create an array by taking input from the user using for loop\n",
    "n = eval(input(\"Enter the total number of elements you want:\"))\n",
    "arr = array('i',[])\n",
    "for i in range(n):\n",
    "    arr.append(eval(input(\"Enter elements:\")))\n",
    "print(\"The array becomes:\\n\",arr)\n"
   ]
  },
  {
   "cell_type": "code",
   "execution_count": 11,
   "id": "9427b724",
   "metadata": {},
   "outputs": [
    {
     "name": "stdout",
     "output_type": "stream",
     "text": [
      "The array becomes:\n",
      " array('i', [12, 35, 53, 67, 45])\n"
     ]
    }
   ],
   "source": [
    "# Write a program in python to create an array by taking input from the user using while loop\n",
    "n = eval(input(\"Enter the number of elements you want:\"))\n",
    "arr = array('i',[])\n",
    "i = 0\n",
    "while i < n:\n",
    "    arr.append(eval(input(\"Enter elements:\")))\n",
    "    i = i+1\n",
    "print(\"The array becomes:\\n\",arr)\n",
    "# [10, 24, 53, 25, 16]"
   ]
  },
  {
   "cell_type": "markdown",
   "id": "e324471e",
   "metadata": {},
   "source": [
    "Insert: This method is used to insert an element at the particularposition of the existing array"
   ]
  },
  {
   "cell_type": "code",
   "execution_count": 12,
   "id": "a3993c9a",
   "metadata": {},
   "outputs": [
    {
     "name": "stdout",
     "output_type": "stream",
     "text": [
      "The origional array becomes:\n",
      " array('i', [12, 35, 53, 67, 45])\n",
      "The modified array becomes:\n",
      " array('i', [12, 35, 40, 53, 67, 45]) and it's elements are:\n",
      "12\n",
      "35\n",
      "40\n",
      "53\n",
      "67\n",
      "45\n"
     ]
    }
   ],
   "source": [
    "# Write a program in python to insert a certain element in the particular position of a given array\n",
    "def display(arr):\n",
    "    def count(arr):\n",
    "        count = 0\n",
    "        for x in arr:\n",
    "            count = count + 1\n",
    "        return count\n",
    "    i = 0\n",
    "    while i < count(arr):\n",
    "        print(arr[i])\n",
    "        i = i + 1\n",
    "    \n",
    "print('The origional array becomes:\\n',arr)\n",
    "arr.insert(2,40)\n",
    "print('The modified array becomes:\\n',arr,\"and it's elements are:\")\n",
    "display(arr)"
   ]
  },
  {
   "cell_type": "markdown",
   "id": "02efcd25",
   "metadata": {},
   "source": [
    "Pop: This method is used to remove the last element of an existing array."
   ]
  },
  {
   "cell_type": "code",
   "execution_count": 13,
   "id": "39d0875d",
   "metadata": {},
   "outputs": [
    {
     "name": "stdout",
     "output_type": "stream",
     "text": [
      "The origional array becomes:\n",
      " array('i', [12, 35, 40, 53, 67, 45])\n",
      "The modified array becomes:\n",
      " array('i', [12, 35, 40, 53, 67]) and it's elements are:\n",
      "12\n",
      "35\n",
      "40\n",
      "53\n",
      "67\n"
     ]
    }
   ],
   "source": [
    "# Write a program in python to remove the last element from the given array\n",
    "def display(arr):\n",
    "    def count(arr):\n",
    "        count = 0\n",
    "        for x in arr:\n",
    "            count = count + 1\n",
    "        return count\n",
    "    i = 0\n",
    "    while i < count(arr):\n",
    "        print(arr[i])\n",
    "        i = i+1\n",
    "print('The origional array becomes:\\n',arr)\n",
    "arr.pop()\n",
    "print('The modified array becomes:\\n',arr,\"and it's elements are:\")\n",
    "display(arr)        "
   ]
  },
  {
   "cell_type": "markdown",
   "id": "ddfb8ef9",
   "metadata": {},
   "source": [
    "Remove: This method is used to remove the first occurence of given element in the existing array.If it doesn't found the element then it shows the value error."
   ]
  },
  {
   "cell_type": "code",
   "execution_count": 14,
   "id": "d79ac9ff",
   "metadata": {},
   "outputs": [
    {
     "name": "stdout",
     "output_type": "stream",
     "text": [
      "The original array becomes: array('i', [0, 1, 1, 2, 3, 5, 8, 13, 21, 34, 55, 89])\n",
      "The elements of the existing array:\n",
      "0\n",
      "1\n",
      "1\n",
      "2\n",
      "3\n",
      "5\n",
      "8\n",
      "13\n",
      "21\n",
      "34\n",
      "55\n",
      "89\n",
      "The element 1 is removed successfully.\n",
      "The process has been completed\n",
      "The modified array becomes: array('i', [0, 1, 2, 3, 5, 8, 13, 21, 34, 55, 89])\n"
     ]
    }
   ],
   "source": [
    "# Write a program in python to remove a certain element from a given array.\n",
    "def remove(arr, n):\n",
    "    print('The elements of the existing array:')\n",
    "    def count(arr):\n",
    "        count = 0\n",
    "        for x in arr:\n",
    "            count = count + 1\n",
    "        return count\n",
    "    i = 0\n",
    "    while i < count(arr):\n",
    "        print(arr[i])\n",
    "        i = i+1\n",
    "    try:\n",
    "        arr.remove(n)\n",
    "        print(f'The element {n} is removed successfully.')\n",
    "    except ValueError:\n",
    "        print(f'The element {n} is not found in the array.')\n",
    "    finally:\n",
    "        print('The process has been completed')\n",
    "def generate_fibo(n):\n",
    "    a, b = 0, 1\n",
    "    c = 0\n",
    "    arr = array('i', [a, b])\n",
    "    i = 0\n",
    "    while i < n:\n",
    "        c = a + b\n",
    "        arr.append(c)\n",
    "        a = b\n",
    "        b = c\n",
    "        i = i+1\n",
    "    return arr\n",
    "\n",
    "# Main program\n",
    "length = eval(input(\"Enter the number of Fibonacci elements: \"))\n",
    "fib_arr = generate_fibo(length)\n",
    "print(\"The original array becomes:\", fib_arr)\n",
    "element = eval(input(\"Enter the element to be removed: \"))\n",
    "remove(fib_arr, element)\n",
    "print(\"The modified array becomes:\", fib_arr)\n",
    "  \n",
    "    \n",
    "    \n",
    "        "
   ]
  },
  {
   "cell_type": "markdown",
   "id": "cf366af3",
   "metadata": {},
   "source": [
    "Index:This method returns the position number of the first occurence of the given elementin the existing array.If it doesn't found then shows the value error."
   ]
  },
  {
   "cell_type": "code",
   "execution_count": null,
   "id": "b71ef695",
   "metadata": {},
   "outputs": [
    {
     "name": "stdout",
     "output_type": "stream",
     "text": [
      "The original array becomes: array('i', [0, 1, 1, 2, 3, 5, 8])\n",
      "The elements of the existing array becomes:\n",
      "0\n",
      "1\n",
      "1\n",
      "2\n",
      "3\n",
      "5\n",
      "8\n",
      "the index number of 1 is found and it is 1\n",
      "The process has been completed successfully\n"
     ]
    }
   ],
   "source": [
    "# Write a program in python such that it takes the element as an input from the user and find it's indeex number if the element is present in the given array.\n",
    "def find_index(arr,n):\n",
    "    print('The elements of the existing array becomes:')\n",
    "    def count(arr):\n",
    "        count = 0\n",
    "        for x in arr:\n",
    "            count = count + 1\n",
    "        return count\n",
    "    i = 0\n",
    "    while i < count(arr):\n",
    "        print(arr[i])\n",
    "        i = i+1\n",
    "    try:\n",
    "        b = arr.index(n)\n",
    "        print(f'the index number of {n} is found and it is {b}')\n",
    "    except ValueError:\n",
    "        print(f'the index number of {n} is not found in the given array')\n",
    "    finally:\n",
    "        print('The process has been completed successfully')\n",
    "def generate_fibo(n):\n",
    "    a,b = 0,1\n",
    "    c = 0\n",
    "    arr = array('i',[a,b])\n",
    "    i = 0\n",
    "    while i<n:\n",
    "        c = a+b\n",
    "        arr.append(c)\n",
    "        a = b \n",
    "        b = c \n",
    "        i = i+1\n",
    "    return arr\n",
    "length = eval(input(\"Enter the number of Fibonacci elements: \"))\n",
    "fib_arr = generate_fibo(length)\n",
    "print(\"The original array becomes:\", fib_arr)\n",
    "element = eval(input(\"Enter the element for which you want to find the index:\"))  \n",
    "find_index(fib_arr,element)      "
   ]
  },
  {
   "cell_type": "markdown",
   "id": "694817e1",
   "metadata": {},
   "source": [
    "Reverse: This method is used to reverse the order of element in the given array"
   ]
  },
  {
   "cell_type": "code",
   "execution_count": null,
   "id": "361a1b37",
   "metadata": {},
   "outputs": [
    {
     "name": "stdout",
     "output_type": "stream",
     "text": [
      "The origional array and it's elements are:\n",
      " array('i', [1, 2, 3, 4, 5, 5])\n",
      "The element of the  array becomes:\n",
      "the element present at positive index 0 and at negetive index -6 becomes 1\n",
      "the element present at positive index 1 and at negetive index -5 becomes 2\n",
      "the element present at positive index 2 and at negetive index -4 becomes 3\n",
      "the element present at positive index 3 and at negetive index -3 becomes 4\n",
      "the element present at positive index 4 and at negetive index -2 becomes 5\n",
      "the element present at positive index 5 and at negetive index -1 becomes 5\n",
      "The modified array and it's elements are:\n",
      " array('i', [5, 5, 4, 3, 2, 1])\n",
      "The element of the  array becomes:\n",
      "the element present at positive index 0 and at negetive index -6 becomes 5\n",
      "the element present at positive index 1 and at negetive index -5 becomes 5\n",
      "the element present at positive index 2 and at negetive index -4 becomes 4\n",
      "the element present at positive index 3 and at negetive index -3 becomes 3\n",
      "the element present at positive index 4 and at negetive index -2 becomes 2\n",
      "the element present at positive index 5 and at negetive index -1 becomes 1\n"
     ]
    }
   ],
   "source": [
    "# Write a program in python to reverse a given array using inbuilt method\n",
    "def display_ele(arr):\n",
    "    print('The element of the  array becomes:')\n",
    "    def count(arr):\n",
    "        count = 0\n",
    "        for x in arr:\n",
    "            count = count + 1\n",
    "        return count\n",
    "    def display(arr):\n",
    "        i = 0\n",
    "        while i < count(arr):\n",
    "            print('the element present at positive index {} and at negetive index {} becomes {}'.format(i,i-count(arr),arr[i]))\n",
    "            i = i+1\n",
    "    return display(arr)\n",
    "arr = array('i',[1,2,3,4,5,5]) \n",
    "print(\"The origional array and it's elements are:\\n\",arr)\n",
    "display_ele(arr)\n",
    "arr.reverse()\n",
    "print(\"The modified array and it's elements are:\\n\",arr)\n",
    "display_ele(arr)\n",
    "        \n",
    "    \n",
    "        "
   ]
  },
  {
   "cell_type": "code",
   "execution_count": 13,
   "id": "30ff2ffd",
   "metadata": {},
   "outputs": [
    {
     "name": "stdout",
     "output_type": "stream",
     "text": [
      "The origional array becomes: array('i', [1, 2, 3, 4, 5, 6])\n",
      "The reversed array becomes:\n"
     ]
    },
    {
     "data": {
      "text/plain": [
       "array('i', [5, 4, 3, 2, 1, 0])"
      ]
     },
     "execution_count": 13,
     "metadata": {},
     "output_type": "execute_result"
    }
   ],
   "source": [
    "# Write a program in python to reverse a given array using while loop(single pointer)\n",
    "def reverse(arr):\n",
    "    def count(arr):\n",
    "        count = 0\n",
    "        for x in arr:\n",
    "            count = count + 1\n",
    "        return count\n",
    "    rev = array('i',[])\n",
    "    i = count(arr) - 1\n",
    "    while i >=0:\n",
    "        rev.append(i)\n",
    "        i = i-1\n",
    "    return rev\n",
    "arr = array('i',[1,2,3,4,5,6])\n",
    "print('The origional array becomes:',arr)\n",
    "print('The reversed array becomes:')\n",
    "reverse(arr)"
   ]
  },
  {
   "cell_type": "code",
   "execution_count": 14,
   "id": "b4419c7b",
   "metadata": {},
   "outputs": [
    {
     "name": "stdout",
     "output_type": "stream",
     "text": [
      "The origional array becomes: array('i', [1, 2, 3, 4, 5, 6])\n",
      "The reversed array becomes:\n"
     ]
    },
    {
     "data": {
      "text/plain": [
       "array('i', [6, 5, 4, 3, 2, 1])"
      ]
     },
     "execution_count": 14,
     "metadata": {},
     "output_type": "execute_result"
    }
   ],
   "source": [
    "# Write a program in python to reverse a given array using while loop(two-pointer)\n",
    "def reverse(arr):\n",
    "    def count(arr):\n",
    "        count = 0\n",
    "        for x in arr:\n",
    "            count = count + 1\n",
    "        return count\n",
    "    left = 0\n",
    "    right = count(arr) - 1\n",
    "    while left < right:\n",
    "        temp = arr[left]\n",
    "        arr[left] = arr[right]\n",
    "        arr[right] = temp\n",
    "        left = left + 1\n",
    "        right = right - 1\n",
    "    return arr\n",
    "arr = array('i',[1,2,3,4,5,6])\n",
    "print('The origional array becomes:',arr)\n",
    "print('The reversed array becomes:')\n",
    "reverse(arr)\n"
   ]
  },
  {
   "cell_type": "code",
   "execution_count": 20,
   "id": "71601a40",
   "metadata": {},
   "outputs": [
    {
     "name": "stdout",
     "output_type": "stream",
     "text": [
      " The two given arrays are:\n",
      " array('i', [7, 7, 6, 8, 4, 9, 2, 6, 1]) \n",
      " array('i', [4, 5, 7, 8, 8, 9, 4, 3])\n",
      "The merged array becomes:\n"
     ]
    },
    {
     "data": {
      "text/plain": [
       "array('i', [1, 2, 3, 4, 5, 6, 7, 8, 9])"
      ]
     },
     "execution_count": 20,
     "metadata": {},
     "output_type": "execute_result"
    }
   ],
   "source": [
    "# Write a program in python to merge two given array such that the final array contains the unique element.\n",
    "def merge(a,b):\n",
    "    a.extend(b)\n",
    "    c = array('i',[])\n",
    "    for x in a:\n",
    "        if x not in c:\n",
    "            c.append(x)\n",
    "    count = 0\n",
    "    for x in c:\n",
    "        count = count + 1\n",
    "    for i in range(count-1,0,-1):\n",
    "        for j in range(i):\n",
    "            if c[j] > c[j+1]:\n",
    "                temp = c[j]\n",
    "                c[j] = c[j+1]\n",
    "                c[j+1] = temp\n",
    "    return c\n",
    "a = array('i',[7,7,6,8,4,9,2,6,1])\n",
    "b = array('i',[4,5,7,8,8,9,4,3])\n",
    "print(\" The two given arrays are:\\n\",a,'\\n',b)\n",
    "print('The merged array becomes:')\n",
    "merge(a,b)        \n",
    "    \n",
    "    "
   ]
  },
  {
   "cell_type": "code",
   "execution_count": null,
   "id": "c7df70cb",
   "metadata": {},
   "outputs": [
    {
     "name": "stdout",
     "output_type": "stream",
     "text": [
      "The minimum as well as maximum value of the given array becomes:\n"
     ]
    },
    {
     "data": {
      "text/plain": [
       "(9, 1)"
      ]
     },
     "execution_count": 25,
     "metadata": {},
     "output_type": "execute_result"
    }
   ],
   "source": [
    "# Write a program in python to find the largest and smallest number from the given array\n",
    "def min_max(arr):\n",
    "    min_value = arr[0]\n",
    "    max_value = arr[0]\n",
    "    for x in a:\n",
    "        if x > max_value:\n",
    "            max_value = x\n",
    "        if x < min_value:\n",
    "            min_value = x\n",
    "    return max_value,min_value\n",
    "arr = array('i',[7,6,8,4,9,2,1])\n",
    "print('The minimum as well as maximum value of the given array becomes:')\n",
    "min_max(arr)"
   ]
  },
  {
   "cell_type": "code",
   "execution_count": 4,
   "id": "8e3503ec",
   "metadata": {},
   "outputs": [
    {
     "name": "stdout",
     "output_type": "stream",
     "text": [
      "The second largest number in the given array becomes: 8\n"
     ]
    }
   ],
   "source": [
    "# Write a ptogram in python to find the second largest number in the given array\n",
    "def second_largest(arr):\n",
    "    first = arr[0]\n",
    "    second = arr[0]\n",
    "    for x in arr:\n",
    "        if x > first:\n",
    "            second = first\n",
    "            first = x\n",
    "        if x > second and x !=first:\n",
    "            second = x\n",
    "    return second\n",
    "arr = array('i',[7,6,8,4,9,2,1])\n",
    "print('The second largest number in the given array becomes:',second_largest(arr))"
   ]
  },
  {
   "cell_type": "code",
   "execution_count": 7,
   "id": "79d9bd5f",
   "metadata": {},
   "outputs": [
    {
     "name": "stdout",
     "output_type": "stream",
     "text": [
      "The frequency of each character in the given array becomes:\n",
      "7: 2 times\n",
      "6: 2 times\n",
      "8: 1 times\n",
      "4: 1 times\n",
      "9: 1 times\n",
      "2: 1 times\n",
      "1: 1 times\n"
     ]
    }
   ],
   "source": [
    "# Write a program in python to find the frequency of each element in the given array\n",
    "def find_frequency(arr):\n",
    "    d = {}\n",
    "    for x in arr:\n",
    "        if x in d:\n",
    "            d[x] = d[x] + 1\n",
    "        else:\n",
    "            d[x] = 1\n",
    "    return d.items()\n",
    "arr = array('i',[7,7,6,8,4,9,2,6,1])\n",
    "print('The frequency of each character in the given array becomes:')\n",
    "for k,v in find_frequency(arr):\n",
    "    print('{}: {} times'.format(k,v))\n"
   ]
  },
  {
   "cell_type": "markdown",
   "id": "0929d925",
   "metadata": {},
   "source": [
    "Slicing: Slicing on arrays can be used to retrieve a piece of the array which contains elements."
   ]
  },
  {
   "cell_type": "code",
   "execution_count": 10,
   "id": "66143b33",
   "metadata": {},
   "outputs": [
    {
     "name": "stdout",
     "output_type": "stream",
     "text": [
      "The given array becomes: array('i', [1, 2, 3, 4, 5, 6, 7])\n",
      "The element of the existing array becomes:\n",
      "0 : 1\n",
      "1 : 2\n",
      "2 : 3\n",
      "3 : 4\n",
      "4 : 5\n",
      "5 : 6\n",
      "6 : 7\n",
      "The element of the sliced array becomes:\n",
      "2\n",
      "3\n",
      "4\n",
      "5\n"
     ]
    }
   ],
   "source": [
    "arr = array('i',[1,2,3,4,5,6,7])\n",
    "print('The given array becomes:',arr)\n",
    "def count(arr):\n",
    "    count = 0\n",
    "    for x in arr:\n",
    "        count = count + 1\n",
    "    return count\n",
    "print('The element of the existing array becomes:')\n",
    "for i in range(count(arr)):\n",
    "    print(i,':',arr[i])\n",
    "a = arr[1:5]\n",
    "print('The element of the sliced array becomes:')\n",
    "for x in a:\n",
    "    print(x)"
   ]
  }
 ],
 "metadata": {
  "kernelspec": {
   "display_name": "Python 3",
   "language": "python",
   "name": "python3"
  },
  "language_info": {
   "codemirror_mode": {
    "name": "ipython",
    "version": 3
   },
   "file_extension": ".py",
   "mimetype": "text/x-python",
   "name": "python",
   "nbconvert_exporter": "python",
   "pygments_lexer": "ipython3",
   "version": "3.11.2"
  }
 },
 "nbformat": 4,
 "nbformat_minor": 5
}
